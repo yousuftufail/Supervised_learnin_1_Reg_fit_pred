{
 "cells": [
  {
   "cell_type": "code",
   "execution_count": 9,
   "metadata": {},
   "outputs": [],
   "source": [
    "#Fit & predict for regression\n",
    "#I fit a linear regression and predict life expectancy using just one feature ('fertility'). Since the goal is \n",
    "#to predict life expectancy, therefore the target variable here is 'life'"
   ]
  },
  {
   "cell_type": "code",
   "execution_count": 10,
   "metadata": {},
   "outputs": [
    {
     "name": "stdout",
     "output_type": "stream",
     "text": [
      "Index(['population', 'fertility', 'HIV', 'CO2', 'BMI_male', 'GDP',\n",
      "       'BMI_female', 'life', 'child_mortality', 'Region'],\n",
      "      dtype='object')\n",
      "   population  fertility  HIV        CO2  BMI_male      GDP  BMI_female  life  \\\n",
      "0  34811059.0       2.73  0.1   3.328945  24.59620  12314.0    129.9049  75.3   \n",
      "1  19842251.0       6.43  2.0   1.474353  22.25083   7103.0    130.1247  58.3   \n",
      "2  40381860.0       2.24  0.5   4.785170  27.50170  14646.0    118.8915  75.5   \n",
      "3   2975029.0       1.40  0.1   1.804106  25.35542   7383.0    132.8108  72.5   \n",
      "4  21370348.0       1.96  0.1  18.016313  27.56373  41312.0    117.3755  81.5   \n",
      "\n",
      "   child_mortality                      Region  \n",
      "0             29.5  Middle East & North Africa  \n",
      "1            192.0          Sub-Saharan Africa  \n",
      "2             15.4                     America  \n",
      "3             20.0       Europe & Central Asia  \n",
      "4              5.2         East Asia & Pacific  \n"
     ]
    },
    {
     "data": {
      "text/plain": [
       "'-------------------------------'"
      ]
     },
     "execution_count": 10,
     "metadata": {},
     "output_type": "execute_result"
    }
   ],
   "source": [
    "\"Collecting the data:\"\n",
    "\"------------------------------\"\n",
    "\n",
    "import pandas as pd\n",
    "df=pd.read_csv('gapminder.csv')\n",
    "print(df.columns)\n",
    "print(df.head())\n",
    "\n",
    "X_val=df.fertility.values\n",
    "y_val=df.life.values\n",
    "X_fertility=X_val.reshape(-1,1)\n",
    "y=y_val.reshape(-1,1)\n",
    "\"-------------------------------\""
   ]
  },
  {
   "cell_type": "code",
   "execution_count": 11,
   "metadata": {},
   "outputs": [
    {
     "name": "stdout",
     "output_type": "stream",
     "text": [
      "0.6192442167740035\n"
     ]
    },
    {
     "data": {
      "image/png": "[encoded data removed]",
      "text/plain": [
       "<Figure size 432x288 with 1 Axes>"
      ]
     },
     "metadata": {},
     "output_type": "display_data"
    }
   ],
   "source": [
    "import matplotlib.pyplot as plt\n",
    "import seaborn\n",
    "seaborn.set()\n",
    "plt.scatter(X_fertility,y)     \n",
    "plt.xlabel('Fertility')\n",
    "plt.ylabel('Life Expectency')\n",
    "# Import LinearRegression\n",
    "from sklearn.linear_model import LinearRegression  # OR from sklearn import linear_model\n",
    "\n",
    "# Create the regressor: reg\n",
    "reg = LinearRegression()                            # OR reg=linear_model.LinearRegression()\n",
    "\n",
    "\n",
    "import numpy as np\n",
    "# Create the prediction space\n",
    "prediction_space = np.linspace(min(X_fertility), max(X_fertility)).reshape(-1,1)\n",
    "\n",
    "# Fit the model to the data\n",
    "reg.fit(X_fertility,y)\n",
    "\n",
    "# Compute predictions over the prediction space: y_pred\n",
    "y_pred1 = reg.predict(prediction_space)\n",
    "\n",
    "# Print R^2 \n",
    "print(reg.score(X_fertility, y))\n",
    "\n",
    "# Plot regression line\n",
    "plt.plot(prediction_space, y_pred1, color='black', linewidth=3)\n",
    "plt.show()"
   ]
  },
  {
   "cell_type": "markdown",
   "metadata": {},
   "source": [
    "Conclusion:\n",
    "- Notice how the line captures the underlying trend in the data. And the performance is quite decent for this basic regression model with only one feature!\n",
    "- Scatter plot along with the regression line represent very strong negative correlation\n",
    "- I am going to veriy this negative correlation numerically by calculating pearson's coefficients."
   ]
  },
  {
   "cell_type": "code",
   "execution_count": 12,
   "metadata": {},
   "outputs": [
    {
     "name": "stdout",
     "output_type": "stream",
     "text": [
      "-0.7869207182264322\n"
     ]
    },
    {
     "data": {
      "text/plain": [
       "'-----------------------------------'"
      ]
     },
     "execution_count": 12,
     "metadata": {},
     "output_type": "execute_result"
    }
   ],
   "source": [
    "\"---------------------------------\"\n",
    "from scipy.stats import pearsonr \n",
    "# Calculate the Pearson correlation\n",
    "correlation, pvalue = pearsonr(X_val, y_val)\n",
    "# Display the correlation\n",
    "print(correlation)\n",
    "\"-----------------------------------\""
   ]
  },
  {
   "cell_type": "markdown",
   "metadata": {},
   "source": [
    "- This ~-0.8 second our scatter plot and indicates the strong negative correlation between the life and fertility. "
   ]
  },
  {
   "cell_type": "code",
   "execution_count": null,
   "metadata": {},
   "outputs": [],
   "source": []
  }
 ],
 "metadata": {
  "kernelspec": {
   "display_name": "Python 3",
   "language": "python",
   "name": "python3"
  },
  "language_info": {
   "codemirror_mode": {
    "name": "ipython",
    "version": 3
   },
   "file_extension": ".py",
   "mimetype": "text/x-python",
   "name": "python",
   "nbconvert_exporter": "python",
   "pygments_lexer": "ipython3",
   "version": "3.7.4"
  }
 },
 "nbformat": 4,
 "nbformat_minor": 2
}
